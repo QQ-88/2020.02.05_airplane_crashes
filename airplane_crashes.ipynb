{
 "cells": [
  {
   "cell_type": "markdown",
   "metadata": {},
   "source": [
    "https://trello.com/c/DTm3W660/10-air-plane-crashes-kaggle"
   ]
  },
  {
   "cell_type": "code",
   "execution_count": 1,
   "metadata": {},
   "outputs": [],
   "source": [
    "import pandas as pd\n",
    "from matplotlib import pyplot as plt\n",
    "import numpy as np\n",
    "\n",
    "plt.style.use('seaborn')"
   ]
  },
  {
   "cell_type": "code",
   "execution_count": 2,
   "metadata": {},
   "outputs": [],
   "source": [
    "df = pd.read_csv('data.csv')"
   ]
  },
  {
   "cell_type": "markdown",
   "metadata": {},
   "source": [
    "**1.1: remove columns with 80 or more percent of Null-values**"
   ]
  },
  {
   "cell_type": "code",
   "execution_count": 3,
   "metadata": {},
   "outputs": [],
   "source": [
    "# 80% of 13 cols je 10\n",
    "df.dropna(thresh=10, inplace=True)"
   ]
  },
  {
   "cell_type": "markdown",
   "metadata": {},
   "source": [
    "**1.2: check the ground column to see if it only contains 0 and 1. If so convert it to a Boolean type**"
   ]
  },
  {
   "cell_type": "code",
   "execution_count": 4,
   "metadata": {},
   "outputs": [
    {
     "data": {
      "text/plain": [
       "'It contains more, namely 44 different values.'"
      ]
     },
     "execution_count": 4,
     "metadata": {},
     "output_type": "execute_result"
    }
   ],
   "source": [
    "'It contains more, namely {} different values.'.format(df.Ground.nunique())"
   ]
  },
  {
   "cell_type": "markdown",
   "metadata": {},
   "source": [
    "**2.1: on avg. how many plane crashes happen per year?**"
   ]
  },
  {
   "cell_type": "code",
   "execution_count": 5,
   "metadata": {},
   "outputs": [],
   "source": [
    "# Create a year column\n",
    "df['Date'] = pd.to_datetime(df['Date'])\n",
    "df['Year'] = df['Date'].dt.year"
   ]
  },
  {
   "cell_type": "code",
   "execution_count": 6,
   "metadata": {},
   "outputs": [
    {
     "data": {
      "text/plain": [
       "'There are 49.51 crashes per year on average'"
      ]
     },
     "execution_count": 6,
     "metadata": {},
     "output_type": "execute_result"
    }
   ],
   "source": [
    "crashes_per_year = df['Year'].count() / df['Year'].nunique()\n",
    "'There are {} crashes per year on average'.format(round(crashes_per_year, 2))"
   ]
  },
  {
   "cell_type": "markdown",
   "metadata": {},
   "source": [
    "**2.1.1: which year was the one with the least/most crashes?**"
   ]
  },
  {
   "cell_type": "code",
   "execution_count": 7,
   "metadata": {},
   "outputs": [
    {
     "data": {
      "text/plain": [
       "'The year with the most crashes was 1972 and the one with the least 1923.'"
      ]
     },
     "execution_count": 7,
     "metadata": {},
     "output_type": "execute_result"
    }
   ],
   "source": [
    "'The year with the most crashes was {} and the one with the least {}.'.format(df.Year.value_counts().idxmax(), df.Year.value_counts().idxmin())"
   ]
  },
  {
   "cell_type": "markdown",
   "metadata": {},
   "source": [
    "**2.2: on avg. how many months are in between crashes?**"
   ]
  },
  {
   "cell_type": "code",
   "execution_count": 8,
   "metadata": {},
   "outputs": [
    {
     "data": {
      "text/plain": [
       "'The average time between crashes is 0.25 months.'"
      ]
     },
     "execution_count": 8,
     "metadata": {},
     "output_type": "execute_result"
    }
   ],
   "source": [
    "time_between_crashes = (365 / crashes_per_year) / 30\n",
    "'The average time between crashes is {} months.'.format(round(time_between_crashes,2))"
   ]
  },
  {
   "cell_type": "markdown",
   "metadata": {},
   "source": [
    "**2.2.1: what was the longest period in between crashes?**"
   ]
  },
  {
   "cell_type": "code",
   "execution_count": 9,
   "metadata": {},
   "outputs": [],
   "source": [
    "# The dates were not sorted, first we need to do that to be able to calculate\n",
    "df.sort_values(by='Date', inplace=True)"
   ]
  },
  {
   "cell_type": "code",
   "execution_count": 10,
   "metadata": {},
   "outputs": [],
   "source": [
    "# Iterate over the dates substracting one of the other\n",
    "periods = []\n",
    "nums = range(len(df['Date'])-1)\n",
    "\n",
    "for num in nums:\n",
    "    n1 = df.index[num]\n",
    "    n2 = df.index[num+1]\n",
    "    y = df['Date'][n2]\n",
    "    x = df['Date'][n1]\n",
    "    z = y - x\n",
    "    periods.append(z)"
   ]
  },
  {
   "cell_type": "code",
   "execution_count": 34,
   "metadata": {},
   "outputs": [
    {
     "data": {
      "text/plain": [
       "[Timedelta('3007 days 00:00:00'),\n",
       " Timedelta('1394 days 00:00:00'),\n",
       " Timedelta('625 days 00:00:00')]"
      ]
     },
     "execution_count": 34,
     "metadata": {},
     "output_type": "execute_result"
    }
   ],
   "source": [
    "# 3 largest periods\n",
    "import heapq\n",
    "\n",
    "heapq.nlargest(3, periods)"
   ]
  },
  {
   "cell_type": "markdown",
   "metadata": {},
   "source": [
    "**2.3: which Operator suffered the most crashes in history?**"
   ]
  },
  {
   "cell_type": "code",
   "execution_count": 12,
   "metadata": {},
   "outputs": [
    {
     "data": {
      "text/plain": [
       "Military - U.S. Air Force    162\n",
       "Aeroflot                     150\n",
       "Air France                    59\n",
       "Name: Operator, dtype: int64"
      ]
     },
     "execution_count": 12,
     "metadata": {},
     "output_type": "execute_result"
    }
   ],
   "source": [
    "df.Operator.value_counts().nlargest(3)"
   ]
  },
  {
   "cell_type": "markdown",
   "metadata": {},
   "source": [
    "Overall it was the US Air Force, from comercial airlines it was Aeroflot"
   ]
  },
  {
   "cell_type": "markdown",
   "metadata": {},
   "source": [
    "**3.1: from the Route column extract start and destination and create new columns for each**"
   ]
  },
  {
   "cell_type": "code",
   "execution_count": 13,
   "metadata": {},
   "outputs": [
    {
     "data": {
      "text/html": [
       "<div>\n",
       "<style scoped>\n",
       "    .dataframe tbody tr th:only-of-type {\n",
       "        vertical-align: middle;\n",
       "    }\n",
       "\n",
       "    .dataframe tbody tr th {\n",
       "        vertical-align: top;\n",
       "    }\n",
       "\n",
       "    .dataframe thead th {\n",
       "        text-align: right;\n",
       "    }\n",
       "</style>\n",
       "<table border=\"1\" class=\"dataframe\">\n",
       "  <thead>\n",
       "    <tr style=\"text-align: right;\">\n",
       "      <th></th>\n",
       "      <th>Date</th>\n",
       "      <th>Time</th>\n",
       "      <th>Location</th>\n",
       "      <th>Operator</th>\n",
       "      <th>Flight #</th>\n",
       "      <th>Route</th>\n",
       "      <th>Type</th>\n",
       "      <th>Registration</th>\n",
       "      <th>cn/In</th>\n",
       "      <th>Aboard</th>\n",
       "      <th>Fatalities</th>\n",
       "      <th>Ground</th>\n",
       "      <th>Summary</th>\n",
       "      <th>Year</th>\n",
       "      <th>Start</th>\n",
       "      <th>Destination</th>\n",
       "    </tr>\n",
       "  </thead>\n",
       "  <tbody>\n",
       "    <tr>\n",
       "      <th>5262</th>\n",
       "      <td>2009-05-03</td>\n",
       "      <td>12:00</td>\n",
       "      <td>Near El Alto de Rubio, Venezuela</td>\n",
       "      <td>Military - Venezuelan Army</td>\n",
       "      <td>NaN</td>\n",
       "      <td>Patrol</td>\n",
       "      <td>Mi-35</td>\n",
       "      <td>EV08114</td>\n",
       "      <td>NaN</td>\n",
       "      <td>18.0</td>\n",
       "      <td>18.0</td>\n",
       "      <td>0.0</td>\n",
       "      <td>The helicopter was patrolling along the Venezu...</td>\n",
       "      <td>2009</td>\n",
       "      <td>Patrol</td>\n",
       "      <td>None</td>\n",
       "    </tr>\n",
       "    <tr>\n",
       "      <th>5263</th>\n",
       "      <td>2009-05-20</td>\n",
       "      <td>06:30</td>\n",
       "      <td>Near Madiun, Indonesia</td>\n",
       "      <td>Military - Indonesian Air Force</td>\n",
       "      <td>NaN</td>\n",
       "      <td>Jakarta - Maduin</td>\n",
       "      <td>Lockheed C-130 Hercules</td>\n",
       "      <td>A-1325</td>\n",
       "      <td>1982</td>\n",
       "      <td>112.0</td>\n",
       "      <td>98.0</td>\n",
       "      <td>2.0</td>\n",
       "      <td>While on approach, the military transport cras...</td>\n",
       "      <td>2009</td>\n",
       "      <td>Jakarta</td>\n",
       "      <td>Maduin</td>\n",
       "    </tr>\n",
       "    <tr>\n",
       "      <th>5264</th>\n",
       "      <td>2009-05-26</td>\n",
       "      <td>NaN</td>\n",
       "      <td>Near Isiro, DemocratiRepubliCongo</td>\n",
       "      <td>Service Air</td>\n",
       "      <td>NaN</td>\n",
       "      <td>Goma - Isiro</td>\n",
       "      <td>Antonov An-26</td>\n",
       "      <td>9Q-CSA</td>\n",
       "      <td>5005</td>\n",
       "      <td>4.0</td>\n",
       "      <td>4.0</td>\n",
       "      <td>NaN</td>\n",
       "      <td>The cargo plane crashed while on approach to I...</td>\n",
       "      <td>2009</td>\n",
       "      <td>Goma</td>\n",
       "      <td>Isiro</td>\n",
       "    </tr>\n",
       "    <tr>\n",
       "      <th>5265</th>\n",
       "      <td>2009-06-01</td>\n",
       "      <td>00:15</td>\n",
       "      <td>AtlantiOcean, 570 miles northeast of Natal, Br...</td>\n",
       "      <td>Air France</td>\n",
       "      <td>447</td>\n",
       "      <td>Rio de Janeiro - Paris</td>\n",
       "      <td>Airbus A330-203</td>\n",
       "      <td>F-GZCP</td>\n",
       "      <td>660</td>\n",
       "      <td>228.0</td>\n",
       "      <td>228.0</td>\n",
       "      <td>0.0</td>\n",
       "      <td>The Airbus went missing over the AtlantiOcean ...</td>\n",
       "      <td>2009</td>\n",
       "      <td>Rio de Janeiro</td>\n",
       "      <td>Paris</td>\n",
       "    </tr>\n",
       "    <tr>\n",
       "      <th>5266</th>\n",
       "      <td>2009-06-07</td>\n",
       "      <td>08:30</td>\n",
       "      <td>Near Port Hope Simpson, Newfoundland, Canada</td>\n",
       "      <td>Strait Air</td>\n",
       "      <td>NaN</td>\n",
       "      <td>Lourdes de BlanSablon - Port Hope Simpson</td>\n",
       "      <td>Britten-Norman BN-2A-27 Islander</td>\n",
       "      <td>C-FJJR</td>\n",
       "      <td>424</td>\n",
       "      <td>1.0</td>\n",
       "      <td>1.0</td>\n",
       "      <td>0.0</td>\n",
       "      <td>The air ambulance crashed into hills while att...</td>\n",
       "      <td>2009</td>\n",
       "      <td>Lourdes de BlanSablon</td>\n",
       "      <td>Port Hope Simpson</td>\n",
       "    </tr>\n",
       "  </tbody>\n",
       "</table>\n",
       "</div>"
      ],
      "text/plain": [
       "           Date   Time                                           Location  \\\n",
       "5262 2009-05-03  12:00                   Near El Alto de Rubio, Venezuela   \n",
       "5263 2009-05-20  06:30                             Near Madiun, Indonesia   \n",
       "5264 2009-05-26    NaN                  Near Isiro, DemocratiRepubliCongo   \n",
       "5265 2009-06-01  00:15  AtlantiOcean, 570 miles northeast of Natal, Br...   \n",
       "5266 2009-06-07  08:30       Near Port Hope Simpson, Newfoundland, Canada   \n",
       "\n",
       "                             Operator Flight #  \\\n",
       "5262       Military - Venezuelan Army      NaN   \n",
       "5263  Military - Indonesian Air Force      NaN   \n",
       "5264                      Service Air      NaN   \n",
       "5265                       Air France      447   \n",
       "5266                       Strait Air      NaN   \n",
       "\n",
       "                                          Route  \\\n",
       "5262                                     Patrol   \n",
       "5263                           Jakarta - Maduin   \n",
       "5264                               Goma - Isiro   \n",
       "5265                     Rio de Janeiro - Paris   \n",
       "5266  Lourdes de BlanSablon - Port Hope Simpson   \n",
       "\n",
       "                                  Type Registration cn/In  Aboard  Fatalities  \\\n",
       "5262                             Mi-35     EV08114    NaN    18.0        18.0   \n",
       "5263           Lockheed C-130 Hercules       A-1325  1982   112.0        98.0   \n",
       "5264                     Antonov An-26       9Q-CSA  5005     4.0         4.0   \n",
       "5265                   Airbus A330-203       F-GZCP   660   228.0       228.0   \n",
       "5266  Britten-Norman BN-2A-27 Islander      C-FJJR    424     1.0         1.0   \n",
       "\n",
       "      Ground                                            Summary  Year  \\\n",
       "5262     0.0  The helicopter was patrolling along the Venezu...  2009   \n",
       "5263     2.0  While on approach, the military transport cras...  2009   \n",
       "5264     NaN  The cargo plane crashed while on approach to I...  2009   \n",
       "5265     0.0  The Airbus went missing over the AtlantiOcean ...  2009   \n",
       "5266     0.0  The air ambulance crashed into hills while att...  2009   \n",
       "\n",
       "                       Start         Destination  \n",
       "5262                  Patrol                None  \n",
       "5263                Jakarta               Maduin  \n",
       "5264                   Goma                Isiro  \n",
       "5265         Rio de Janeiro                Paris  \n",
       "5266  Lourdes de BlanSablon    Port Hope Simpson  "
      ]
     },
     "execution_count": 13,
     "metadata": {},
     "output_type": "execute_result"
    }
   ],
   "source": [
    "df[['Start', 'Destination']] = df.Route.str.split('-', n=1, expand=True)\n",
    "df.tail()"
   ]
  },
  {
   "cell_type": "markdown",
   "metadata": {},
   "source": [
    "**3.2: what´s the most common weekday for crashes?**"
   ]
  },
  {
   "cell_type": "code",
   "execution_count": 14,
   "metadata": {},
   "outputs": [],
   "source": [
    "# Creating a new column\n",
    "df['Day_Of_Week'] = df.Date.dt.dayofweek"
   ]
  },
  {
   "cell_type": "code",
   "execution_count": 15,
   "metadata": {},
   "outputs": [
    {
     "data": {
      "text/plain": [
       "3    715\n",
       "2    695\n",
       "1    686\n",
       "4    685\n",
       "5    647\n",
       "0    606\n",
       "6    521\n",
       "Name: Day_Of_Week, dtype: int64"
      ]
     },
     "execution_count": 15,
     "metadata": {},
     "output_type": "execute_result"
    }
   ],
   "source": [
    "# Counting\n",
    "df.Day_Of_Week.value_counts()"
   ]
  },
  {
   "cell_type": "code",
   "execution_count": 16,
   "metadata": {},
   "outputs": [
    {
     "data": {
      "text/plain": [
       "'The weekday with most crashes is Wednesday.'"
      ]
     },
     "execution_count": 16,
     "metadata": {},
     "output_type": "execute_result"
    }
   ],
   "source": [
    "'The weekday with most crashes is Wednesday.'"
   ]
  },
  {
   "cell_type": "markdown",
   "metadata": {},
   "source": [
    "**4.1: on avg. how many passengers survive a crash (if any)? Create a new column called survival rate**"
   ]
  },
  {
   "cell_type": "code",
   "execution_count": 17,
   "metadata": {},
   "outputs": [],
   "source": [
    "df['Survival_Rate'] = 100 - ((df.Fatalities * 100) / df.Aboard)"
   ]
  },
  {
   "cell_type": "code",
   "execution_count": 18,
   "metadata": {},
   "outputs": [
    {
     "data": {
      "text/plain": [
       "'The survival rate is 17.7%.'"
      ]
     },
     "execution_count": 18,
     "metadata": {},
     "output_type": "execute_result"
    }
   ],
   "source": [
    "'The survival rate is {}%.'.format(round(df.Survival_Rate.mean(), 2))"
   ]
  },
  {
   "cell_type": "markdown",
   "metadata": {},
   "source": [
    "**What were the most common causes for crashes? Could be extraced from the `Summary`column (e.g. most common words)**"
   ]
  },
  {
   "cell_type": "code",
   "execution_count": 30,
   "metadata": {},
   "outputs": [],
   "source": [
    "# Create new DF\n",
    "df2 = df.dropna(subset=['Summary']).copy()"
   ]
  },
  {
   "cell_type": "code",
   "execution_count": 32,
   "metadata": {},
   "outputs": [],
   "source": [
    "# Split the words\n",
    "summary = df2.Summary.str.split()"
   ]
  },
  {
   "cell_type": "code",
   "execution_count": 33,
   "metadata": {},
   "outputs": [],
   "source": [
    "# Create a list of those words\n",
    "flattened = []\n",
    "for x in summary:\n",
    "    for y in x:\n",
    "        flattened.append(y)"
   ]
  },
  {
   "cell_type": "code",
   "execution_count": 50,
   "metadata": {},
   "outputs": [
    {
     "data": {
      "text/plain": [
       "[('the', 11242),\n",
       " ('of', 4671),\n",
       " ('to', 4670),\n",
       " ('and', 4651),\n",
       " ('a', 4390),\n",
       " ('The', 4072),\n",
       " ('in', 3009),\n",
       " ('into', 2209),\n",
       " ('was', 2189),\n",
       " ('aircraft', 2064),\n",
       " ('crashed', 1660),\n",
       " ('plane', 1621),\n",
       " ('on', 1437),\n",
       " ('after', 1432),\n",
       " ('an', 1257),\n",
       " ('at', 1183),\n",
       " ('from', 1171),\n",
       " ('while', 1152),\n",
       " ('Crashed', 1075),\n",
       " ('by', 836),\n",
       " ('flight', 831),\n",
       " ('with', 780),\n",
       " ('pilot', 713),\n",
       " ('engine', 700),\n",
       " ('off', 693),\n",
       " ('during', 670),\n",
       " ('for', 620),\n",
       " ('approach', 607),\n",
       " ('crew', 600),\n",
       " ('not', 566),\n",
       " ('which', 565),\n",
       " ('landing', 548),\n",
       " ('failure', 547),\n",
       " ('were', 544),\n",
       " ('taking', 518),\n",
       " ('runway', 487),\n",
       " ('it', 448),\n",
       " ('altitude', 429),\n",
       " ('cargo', 419),\n",
       " ('control', 418),\n",
       " ('miles', 417),\n",
       " ('weather', 417),\n",
       " ('attempting', 405),\n",
       " ('struck', 388),\n",
       " ('that', 360),\n",
       " ('en', 357),\n",
       " ('While', 333),\n",
       " ('ft.', 330),\n",
       " ('mountain', 328),\n",
       " ('left', 321),\n",
       " ('ground', 308),\n",
       " ('right', 301),\n",
       " ('A', 299),\n",
       " ('poor', 295),\n",
       " ('when', 294),\n",
       " ('land', 294),\n",
       " ('short', 293),\n",
       " ('due', 288),\n",
       " ('loss', 272),\n",
       " ('low', 268),\n",
       " ('lost', 267),\n",
       " ('conditions.', 265),\n",
       " ('flying', 258),\n",
       " ('takeoff', 253),\n",
       " ('crashed.', 252),\n",
       " ('but', 252),\n",
       " ('shortly', 251),\n",
       " ('fire', 250),\n",
       " ('as', 249),\n",
       " ('No.', 249),\n",
       " ('had', 248),\n",
       " ('down', 247),\n",
       " ('accident', 242),\n",
       " ('emergency', 239),\n",
       " ('runway.', 237),\n",
       " ('wing', 232),\n",
       " ('failed', 231),\n",
       " ('below', 223),\n",
       " ('approach.', 222),\n",
       " ('caused', 221),\n",
       " ('fuel', 220),\n",
       " ('route.', 217),\n",
       " ('high', 216),\n",
       " ('minutes', 212),\n",
       " ('VFR', 212),\n",
       " ('his', 210),\n",
       " ('feet', 208),\n",
       " ('power', 206),\n",
       " ('out', 204),\n",
       " ('before', 204),\n",
       " ('conditions', 204),\n",
       " ('two', 202),\n",
       " ('maintain', 202),\n",
       " ('its', 201),\n",
       " ('Failure', 200),\n",
       " ('takeoff.', 198),\n",
       " ('After', 198),\n",
       " ('trees', 197),\n",
       " ('hit', 193),\n",
       " ('off.', 190)]"
      ]
     },
     "execution_count": 50,
     "metadata": {},
     "output_type": "execute_result"
    }
   ],
   "source": [
    "# Count the 100 most common ones\n",
    "from collections import Counter\n",
    "\n",
    "data = Counter(flattened)\n",
    "data.most_common(100)"
   ]
  },
  {
   "cell_type": "markdown",
   "metadata": {},
   "source": [
    "There are certainly more sophisticated ways to do that but a quick glance reveals that the most common relevant words are: <br /> - 'engine'(700) indicating engine failure<br />  - 'approach' (607) and 'landing' (548) showing a connection to when the plane was trying to land.<br /> - 'weather' (417) indicating bad conditions<br /> - 'struck' (388) and 'mountain' 328 indicating human error while on route<br /> - 'fuel' (220)"
   ]
  },
  {
   "cell_type": "code",
   "execution_count": null,
   "metadata": {},
   "outputs": [],
   "source": []
  }
 ],
 "metadata": {
  "kernelspec": {
   "display_name": "Python 3",
   "language": "python",
   "name": "python3"
  },
  "language_info": {
   "codemirror_mode": {
    "name": "ipython",
    "version": 3
   },
   "file_extension": ".py",
   "mimetype": "text/x-python",
   "name": "python",
   "nbconvert_exporter": "python",
   "pygments_lexer": "ipython3",
   "version": "3.8.1"
  }
 },
 "nbformat": 4,
 "nbformat_minor": 2
}
